{
 "cells": [
  {
   "cell_type": "code",
   "execution_count": 1,
   "id": "a9e12269",
   "metadata": {},
   "outputs": [],
   "source": [
    "import pandas as pd"
   ]
  },
  {
   "cell_type": "markdown",
   "id": "d3c5a01b",
   "metadata": {},
   "source": [
    "## Listings: including full descriptions and average review score\n",
    "##Reviews: including unique id for each reviewer and detailed comments\n",
    "##Calendar: including listing id and the price and availability for that day"
   ]
  },
  {
   "cell_type": "code",
   "execution_count": 2,
   "id": "0b1cbdd4",
   "metadata": {},
   "outputs": [],
   "source": [
    "listing=pd.read_csv(\"C:\\\\Users\\\\176288724\\\\Downloads\\\\archiveds\\\\listings.csv\")"
   ]
  },
  {
   "cell_type": "code",
   "execution_count": 29,
   "id": "c1aaf25f",
   "metadata": {},
   "outputs": [],
   "source": [
    "calendar=pd.read_csv(\"C:\\\\Users\\\\176288724\\\\Downloads\\\\archiveds\\\\calendar.csv\")"
   ]
  },
  {
   "cell_type": "code",
   "execution_count": 4,
   "id": "48549792",
   "metadata": {},
   "outputs": [],
   "source": [
    "reviews=pd.read_csv(\"C:\\\\Users\\\\176288724\\\\Downloads\\\\archiveds\\\\reviews.csv\")"
   ]
  },
  {
   "cell_type": "code",
   "execution_count": 20,
   "id": "65d51761",
   "metadata": {},
   "outputs": [],
   "source": [
    "listings_subset = listing[['id', 'name','city','host_response_time', 'host_response_rate','host_acceptance_rate', 'accommodates', 'bathrooms', \n",
    "                               'bedrooms', 'beds', 'price', 'weekly_price', 'monthly_price', 'security_deposit','cleaning_fee',\n",
    "                              'extra_people', 'minimum_nights', 'review_scores_rating', 'instant_bookable', 'zipcode']]"
   ]
  },
  {
   "cell_type": "code",
   "execution_count": 21,
   "id": "bc0185b9",
   "metadata": {},
   "outputs": [],
   "source": [
    "data=pd.merge(listings_subset,calander,left_on='id',right_on='listing_id')"
   ]
  },
  {
   "cell_type": "code",
   "execution_count": 22,
   "id": "6a23247f",
   "metadata": {},
   "outputs": [
    {
     "data": {
      "text/html": [
       "<div>\n",
       "<style scoped>\n",
       "    .dataframe tbody tr th:only-of-type {\n",
       "        vertical-align: middle;\n",
       "    }\n",
       "\n",
       "    .dataframe tbody tr th {\n",
       "        vertical-align: top;\n",
       "    }\n",
       "\n",
       "    .dataframe thead th {\n",
       "        text-align: right;\n",
       "    }\n",
       "</style>\n",
       "<table border=\"1\" class=\"dataframe\">\n",
       "  <thead>\n",
       "    <tr style=\"text-align: right;\">\n",
       "      <th></th>\n",
       "      <th>id</th>\n",
       "      <th>name</th>\n",
       "      <th>city</th>\n",
       "      <th>host_response_time</th>\n",
       "      <th>host_response_rate</th>\n",
       "      <th>host_acceptance_rate</th>\n",
       "      <th>accommodates</th>\n",
       "      <th>bathrooms</th>\n",
       "      <th>bedrooms</th>\n",
       "      <th>beds</th>\n",
       "      <th>...</th>\n",
       "      <th>cleaning_fee</th>\n",
       "      <th>extra_people</th>\n",
       "      <th>minimum_nights</th>\n",
       "      <th>review_scores_rating</th>\n",
       "      <th>instant_bookable</th>\n",
       "      <th>zipcode</th>\n",
       "      <th>listing_id</th>\n",
       "      <th>date</th>\n",
       "      <th>available</th>\n",
       "      <th>price_y</th>\n",
       "    </tr>\n",
       "  </thead>\n",
       "  <tbody>\n",
       "    <tr>\n",
       "      <th>0</th>\n",
       "      <td>241032</td>\n",
       "      <td>Stylish Queen Anne Apartment</td>\n",
       "      <td>Seattle</td>\n",
       "      <td>within a few hours</td>\n",
       "      <td>96%</td>\n",
       "      <td>100%</td>\n",
       "      <td>4</td>\n",
       "      <td>1.0</td>\n",
       "      <td>1.0</td>\n",
       "      <td>1.0</td>\n",
       "      <td>...</td>\n",
       "      <td>NaN</td>\n",
       "      <td>$5.00</td>\n",
       "      <td>1</td>\n",
       "      <td>95.0</td>\n",
       "      <td>f</td>\n",
       "      <td>98119</td>\n",
       "      <td>241032</td>\n",
       "      <td>2016-01-04</td>\n",
       "      <td>t</td>\n",
       "      <td>$85.00</td>\n",
       "    </tr>\n",
       "    <tr>\n",
       "      <th>1</th>\n",
       "      <td>241032</td>\n",
       "      <td>Stylish Queen Anne Apartment</td>\n",
       "      <td>Seattle</td>\n",
       "      <td>within a few hours</td>\n",
       "      <td>96%</td>\n",
       "      <td>100%</td>\n",
       "      <td>4</td>\n",
       "      <td>1.0</td>\n",
       "      <td>1.0</td>\n",
       "      <td>1.0</td>\n",
       "      <td>...</td>\n",
       "      <td>NaN</td>\n",
       "      <td>$5.00</td>\n",
       "      <td>1</td>\n",
       "      <td>95.0</td>\n",
       "      <td>f</td>\n",
       "      <td>98119</td>\n",
       "      <td>241032</td>\n",
       "      <td>2016-01-05</td>\n",
       "      <td>t</td>\n",
       "      <td>$85.00</td>\n",
       "    </tr>\n",
       "  </tbody>\n",
       "</table>\n",
       "<p>2 rows × 24 columns</p>\n",
       "</div>"
      ],
      "text/plain": [
       "       id                          name     city  host_response_time  \\\n",
       "0  241032  Stylish Queen Anne Apartment  Seattle  within a few hours   \n",
       "1  241032  Stylish Queen Anne Apartment  Seattle  within a few hours   \n",
       "\n",
       "  host_response_rate host_acceptance_rate  accommodates  bathrooms  bedrooms  \\\n",
       "0                96%                 100%             4        1.0       1.0   \n",
       "1                96%                 100%             4        1.0       1.0   \n",
       "\n",
       "   beds  ... cleaning_fee extra_people minimum_nights review_scores_rating  \\\n",
       "0   1.0  ...          NaN        $5.00              1                 95.0   \n",
       "1   1.0  ...          NaN        $5.00              1                 95.0   \n",
       "\n",
       "  instant_bookable zipcode  listing_id        date available price_y  \n",
       "0                f   98119      241032  2016-01-04         t  $85.00  \n",
       "1                f   98119      241032  2016-01-05         t  $85.00  \n",
       "\n",
       "[2 rows x 24 columns]"
      ]
     },
     "execution_count": 22,
     "metadata": {},
     "output_type": "execute_result"
    }
   ],
   "source": [
    "data.head(2)"
   ]
  },
  {
   "cell_type": "code",
   "execution_count": null,
   "id": "952d1c92",
   "metadata": {},
   "outputs": [],
   "source": []
  },
  {
   "cell_type": "code",
   "execution_count": 39,
   "id": "1e8f127c",
   "metadata": {},
   "outputs": [],
   "source": [
    "##Filtering room which are available### "
   ]
  },
  {
   "cell_type": "code",
   "execution_count": 23,
   "id": "b7996765",
   "metadata": {},
   "outputs": [],
   "source": [
    "result=data[data.available=='t']"
   ]
  },
  {
   "cell_type": "code",
   "execution_count": 24,
   "id": "4f6be50a",
   "metadata": {},
   "outputs": [
    {
     "name": "stderr",
     "output_type": "stream",
     "text": [
      "C:\\Users\\176288724\\AppData\\Local\\Temp\\ipykernel_68460\\833020895.py:1: SettingWithCopyWarning: \n",
      "A value is trying to be set on a copy of a slice from a DataFrame.\n",
      "Try using .loc[row_indexer,col_indexer] = value instead\n",
      "\n",
      "See the caveats in the documentation: https://pandas.pydata.org/pandas-docs/stable/user_guide/indexing.html#returning-a-view-versus-a-copy\n",
      "  result['month_year'] = pd.to_datetime(result['date']).dt.to_period('M')\n"
     ]
    }
   ],
   "source": [
    "result['month_year'] = pd.to_datetime(result['date']).dt.to_period('M')"
   ]
  },
  {
   "cell_type": "code",
   "execution_count": 25,
   "id": "3e82404d",
   "metadata": {},
   "outputs": [
    {
     "data": {
      "text/plain": [
       "Index(['id', 'name', 'city', 'host_response_time', 'host_response_rate',\n",
       "       'host_acceptance_rate', 'accommodates', 'bathrooms', 'bedrooms', 'beds',\n",
       "       'price_x', 'weekly_price', 'monthly_price', 'security_deposit',\n",
       "       'cleaning_fee', 'extra_people', 'minimum_nights',\n",
       "       'review_scores_rating', 'instant_bookable', 'zipcode', 'listing_id',\n",
       "       'date', 'available', 'price_y', 'month_year'],\n",
       "      dtype='object')"
      ]
     },
     "execution_count": 25,
     "metadata": {},
     "output_type": "execute_result"
    }
   ],
   "source": [
    "result.columns"
   ]
  },
  {
   "cell_type": "code",
   "execution_count": 26,
   "id": "89c9fc8a",
   "metadata": {},
   "outputs": [
    {
     "data": {
      "text/plain": [
       "name                                 city     month_year\n",
       " BY Downtown*Universities*Hospitals  Seattle  2016-01       28\n",
       "                                              2016-02       29\n",
       "                                              2016-03       31\n",
       "                                              2016-04       30\n",
       "                                              2016-05       31\n",
       "                                                            ..\n",
       "• West Seattle Crash Pad •           Seattle  2016-09       30\n",
       "                                              2016-10       31\n",
       "                                              2016-11       30\n",
       "                                              2016-12       31\n",
       "                                              2017-01        2\n",
       "Name: available, Length: 35928, dtype: int64"
      ]
     },
     "execution_count": 26,
     "metadata": {},
     "output_type": "execute_result"
    }
   ],
   "source": [
    "##Group By Hotel Name by City####\n",
    "result.groupby(['name','city','month_year'])['available'].count()"
   ]
  },
  {
   "cell_type": "code",
   "execution_count": 38,
   "id": "3847591c",
   "metadata": {},
   "outputs": [
    {
     "data": {
      "text/plain": [
       "91.93443744411826"
      ]
     },
     "execution_count": 38,
     "metadata": {},
     "output_type": "execute_result"
    },
    {
     "data": {
      "image/png": "[encoded data removed]",
      "text/plain": [
       "<Figure size 640x480 with 1 Axes>"
      ]
     },
     "metadata": {},
     "output_type": "display_data"
    }
   ],
   "source": [
    "import seaborn as sns\n",
    "import matplotlib.pyplot as plt\n",
    "\"\"\"\n",
    "Analyze the price over period of time\n",
    "\"\"\"\n",
    "sns.barplot(data = calendar, x ='month', y = 'price')\n",
    "plt.ylabel('Average price')\n",
    "plt.xlabel('Months')\n",
    "plt.title('Average price per month');\n",
    "plt.axhline(calendar.price.mean(), linestyle='--', color='blue');\n",
    "\n",
    "calendar.price.mean()\n",
    "\n"
   ]
  },
  {
   "cell_type": "code",
   "execution_count": 31,
   "id": "caee13a8",
   "metadata": {},
   "outputs": [
    {
     "name": "stdout",
     "output_type": "stream",
     "text": [
      "<class 'pandas.core.frame.DataFrame'>\n",
      "RangeIndex: 1393570 entries, 0 to 1393569\n",
      "Data columns (total 7 columns):\n",
      " #   Column      Non-Null Count    Dtype    \n",
      "---  ------      --------------    -----    \n",
      " 0   listing_id  1393570 non-null  object   \n",
      " 1   date        1393570 non-null  object   \n",
      " 2   available   1393570 non-null  object   \n",
      " 3   price       1393570 non-null  float64  \n",
      " 4   month       1393570 non-null  int64    \n",
      " 5   year        1393570 non-null  int64    \n",
      " 6   month_year  1393570 non-null  period[M]\n",
      "dtypes: float64(1), int64(2), object(3), period[M](1)\n",
      "memory usage: 74.4+ MB\n"
     ]
    }
   ],
   "source": [
    "replace_decimal = (lambda x:x[:-3].replace(',','.') if type(x) is str else x)\n",
    "remove_dollar = (lambda x :x.replace('$','') if type(x) is str else x)\n",
    "\n",
    "calendar['price'] = calendar.price.apply(replace_decimal)\n",
    "calendar['price'] = calendar.price.apply(remove_dollar)\n",
    "calendar['price'] = calendar['price'].astype(float)\n",
    "calendar['price'].fillna(0,inplace=True)\n",
    "calendar['listing_id'] = calendar.listing_id.astype(str)\n",
    "calendar['date'] = pd.to_datetime(calendar['date'])\n",
    "\n",
    "### Adding Columns date month and year \n",
    "calendar['month'] = pd.DatetimeIndex(calendar['date']).month\n",
    "calendar['year'] = pd.DatetimeIndex(calendar['date']).year\n",
    "calendar['date']= pd.DatetimeIndex(calendar['date']).date\n",
    "calendar['month_year'] = pd.to_datetime(calendar['date']).dt.to_period('M')\n",
    "\n",
    "calendar.info()"
   ]
  },
  {
   "cell_type": "code",
   "execution_count": 32,
   "id": "35bad10a",
   "metadata": {},
   "outputs": [
    {
     "data": {
      "image/png": "[encoded data removed]",
      "text/plain": [
       "<Figure size 2000x1500 with 1 Axes>"
      ]
     },
     "metadata": {},
     "output_type": "display_data"
    }
   ],
   "source": [
    "\"\"\"\n",
    "Bar Diagram to depict the busiest time of the year.\n",
    "\"\"\"\n",
    "busy_time = calendar.groupby('month')['price'].mean()\n",
    "busy_time.plot(kind ='barh',figsize =(20,15), colormap=\"Dark2\");"
   ]
  },
  {
   "cell_type": "code",
   "execution_count": null,
   "id": "d9601626",
   "metadata": {},
   "outputs": [],
   "source": []
  },
  {
   "cell_type": "code",
   "execution_count": null,
   "id": "883553de",
   "metadata": {},
   "outputs": [],
   "source": []
  },
  {
   "cell_type": "code",
   "execution_count": null,
   "id": "acf57f2c",
   "metadata": {},
   "outputs": [],
   "source": []
  },
  {
   "cell_type": "code",
   "execution_count": null,
   "id": "fa959e95",
   "metadata": {},
   "outputs": [],
   "source": [
    "\n"
   ]
  },
  {
   "cell_type": "code",
   "execution_count": 94,
   "id": "e00d21a8",
   "metadata": {},
   "outputs": [],
   "source": []
  },
  {
   "cell_type": "code",
   "execution_count": null,
   "id": "04d1d7ba",
   "metadata": {},
   "outputs": [],
   "source": []
  },
  {
   "cell_type": "code",
   "execution_count": null,
   "id": "46494b49",
   "metadata": {},
   "outputs": [],
   "source": []
  },
  {
   "cell_type": "code",
   "execution_count": null,
   "id": "77cc03b5",
   "metadata": {},
   "outputs": [],
   "source": []
  },
  {
   "cell_type": "code",
   "execution_count": null,
   "id": "4e340eb4",
   "metadata": {},
   "outputs": [],
   "source": []
  },
  {
   "cell_type": "code",
   "execution_count": null,
   "id": "9e419297",
   "metadata": {},
   "outputs": [],
   "source": []
  },
  {
   "cell_type": "code",
   "execution_count": null,
   "id": "7b27fcb8",
   "metadata": {},
   "outputs": [],
   "source": []
  },
  {
   "cell_type": "code",
   "execution_count": null,
   "id": "2e70316d",
   "metadata": {},
   "outputs": [],
   "source": []
  },
  {
   "cell_type": "code",
   "execution_count": null,
   "id": "4f6589fd",
   "metadata": {},
   "outputs": [],
   "source": []
  },
  {
   "cell_type": "code",
   "execution_count": null,
   "id": "1840a87c",
   "metadata": {},
   "outputs": [],
   "source": []
  }
 ],
 "metadata": {
  "kernelspec": {
   "display_name": "Python 3 (ipykernel)",
   "language": "python",
   "name": "python3"
  },
  "language_info": {
   "codemirror_mode": {
    "name": "ipython",
    "version": 3
   },
   "file_extension": ".py",
   "mimetype": "text/x-python",
   "name": "python",
   "nbconvert_exporter": "python",
   "pygments_lexer": "ipython3",
   "version": "3.9.13"
  }
 },
 "nbformat": 4,
 "nbformat_minor": 5
}
